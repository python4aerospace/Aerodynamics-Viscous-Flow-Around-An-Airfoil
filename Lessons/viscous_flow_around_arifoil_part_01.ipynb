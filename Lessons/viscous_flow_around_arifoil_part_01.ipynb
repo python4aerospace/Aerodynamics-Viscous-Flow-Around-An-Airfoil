{
 "cells": [
  {
   "cell_type": "markdown",
   "metadata": {},
   "source": [
    "<h2>Intro</h2>\n",
    "<p>The following presentation aims to describe the steps needed to perform the aerodynamic analysis of a <b>viscous flow</b> around a an airfoil (e.g. NACA 4418) with the support of the <a href=\"https://github.com/daniel-de-vries/xfoil-python\"><b>xfoil library</b></a>.</p>\n",
    "<p>The results are also compared against non viscous flow and expiremental data at different <b>angles of attack</b> (&alpha;) and <b>reynolds number</b> (Re).</p>"
   ]
  },
  {
   "cell_type": "markdown",
   "metadata": {},
   "source": [
    "<h2>Airfoil characteristics - NACA 4-digits</h2>\n",
    "<div>\n",
    "  <img src=\"../Images/airfoil_definitions.png\"/>\n",
    "</div>\n",
    "<p>The NACA four-digit wing sections define the profile by:\n",
    "    <ul>\n",
    "        <li><b>m</b>: first digit describing maximum camber as percentage of the chord.</li>\n",
    "        <li><b>p</b>: second digit describing the distance of maximum camber from the airfoil leading edge in tenths of the chord.</li>\n",
    "        <li><b>ss</b>: last two digits describing maximum thickness of the airfoil as percent of the chord.</li>\n",
    "    </ul>\n",
    "</p>\n",
    "<p>The airfoil thikness <b>Y</b> can be calculated with the following formula:\n",
    "    $$ Y = 5ss(0.29690\\sqrt{x}-0.12600x-0.35160x^{2}+0.28430x^{3}-0.10150x^{4}) $$\n",
    "</p>\n",
    "<p>The camber line <b>C</b> and its gradient <b>dC</b> are calculated as follows:\n",
    "    <ul>\n",
    "        <li>for $x<=p$ (front):\n",
    "            $$ C_{f} = \\frac{m}{p^{2}}(2px - x^{2}) $$\n",
    "            $$ dC_{f} = \\frac{2m}{p^{2}}(p - x) $$\n",
    "        </li>\n",
    "        <li>for $x>p$ (back):\n",
    "            $$ C_{b} = \\frac{m}{(1 - p)^{2}}(1 - 2p + 2px - x^{2}) $$\n",
    "            $$ dC_{b} = \\frac{2m}{(1 - p)^{2}}(p - x) $$\n",
    "        </li>\n",
    "    </ul>\n",
    "</p>\n",
    "<p>By knowing these 3 quantities we can finally calculate the positions of the upper and lower surface of the airfoil as they are perpendicular to the camber line:\n",
    "    $$ \\theta = \\arctan(dC)$$\n",
    "    $$ X_{u} = x - Y\\sin(\\theta)$$\n",
    "    $$ Y_{u} = C + Y\\cos(\\theta)$$\n",
    "    $$ X_{l} = x + Y\\sin(\\theta)$$\n",
    "    $$ Y_{l} = C - Y\\cos(\\theta)$$\n",
    "</p>\n",
    "<p>Learn more about it here:\n",
    "    <ul>\n",
    "        <li><a href=\"http://airfoiltools.com/airfoil/naca4digit\">http://airfoiltools.com/airfoil/naca4digit</a></li>\n",
    "        <li><a href=\"https://en.wikipedia.org/wiki/NACA_airfoil\">https://en.wikipedia.org/wiki/NACA_airfoil</a></li>\n",
    "    </ul>\n",
    "</p>\n",
    "\n",
    "<script src='https://cdnjs.cloudflare.com/ajax/libs/mathjax/2.7.4/MathJax.js?config=default'></script>"
   ]
  },
  {
   "cell_type": "code",
   "execution_count": 18,
   "metadata": {
    "ExecuteTime": {
     "end_time": "2020-07-04T11:24:05.142102Z",
     "start_time": "2020-07-04T11:24:04.746711Z"
    }
   },
   "outputs": [
    {
     "data": {
      "image/png": "[encoded data removed]",
      "text/plain": [
       "<Figure size 1152x648 with 1 Axes>"
      ]
     },
     "metadata": {
      "needs_background": "light"
     },
     "output_type": "display_data"
    }
   ],
   "source": [
    "import numpy as np\n",
    "naca = '0012'\n",
    "n_coord = 300\n",
    "\n",
    "# Get characteristic dimensions as percentage of the chord\n",
    "m = int(naca[0])/100\n",
    "p = int(naca[1])/10 + np.finfo(float).eps\n",
    "ss = int(naca[2:])/100\n",
    "\n",
    "# Define unit cord\n",
    "c = np.linspace(0, 1, n_coord)\n",
    "\n",
    "# Calculate airfoil thickness\n",
    "Y = 5*ss*(0.29690*np.sqrt(c)-0.12600*c-0.35160*np.power(c, 2)+0.28430*np.power(c, 3)-0.10150*np.power(c, 4))\n",
    "\n",
    "# Calculate camber line and gradient\n",
    "f = c[c<=p] # front\n",
    "b = c[c>p] # back\n",
    "c_f = m/(np.power(p, 2))*(2*p*f-np.power(f, 2))\n",
    "c_b = m/np.power(1-p, 2)*(1-2*p+2*p*b-np.power(b, 2))\n",
    "\n",
    "C = np.concatenate((c_f, c_b), axis=0)\n",
    "dc_f = 2*m/(np.power(p,2))*(p-f)\n",
    "dc_b = 2*m/(np.power(1-p,2))*(p-b)\n",
    "dC = np.concatenate((dc_f, dc_b), axis=0)\n",
    "\n",
    "# Calcualate upper and lower surface coordinates of the airfoil\n",
    "theta = np.arctan(dC)\n",
    "x_u = c - Y*np.sin(theta)\n",
    "y_u = C + Y*np.cos(theta)\n",
    "x_l = c + Y*np.sin(theta)\n",
    "y_l = C - Y*np.cos(theta)\n",
    "\n",
    "x = np.concatenate((np.flip(x_u), x_l), axis=0)\n",
    "y = np.concatenate((np.flip(y_u), y_l), axis=0)\n",
    "\n",
    "import matplotlib.pyplot as plt\n",
    "import os\n",
    "plt.figure(figsize=(16,9))\n",
    "plt.plot(x, y, 'b--', label='surface')\n",
    "plt.plot(c, C, 'r--', label='camber')\n",
    "plt.gca().set_aspect('equal', adjustable='box')\n",
    "plt.gca().legend()\n",
    "plt.xlabel('X []')\n",
    "plt.ylabel('X []')\n",
    "plt.title('Airfoil NACA-{}'.format(naca))\n",
    "plt.savefig(os.path.join('../Images', naca+'.png'))\n",
    "plt.show()"
   ]
  },
  {
   "cell_type": "markdown",
   "metadata": {},
   "source": [
    "<h2>Lift and drag coefficient</h2>\n",
    "<p>For the viscous analysis 2 different Reynold's number have been considered: <i>Re=200000</i> and <i>Re=600000</i>. The latter represents better aeronautical flows. Such number is defined as:</p>\n",
    "$$ Re = \\frac{vD\\rho}{\\mu}$$\n",
    "<p>Where <i>v</i>, <i>D</i> and <i>&rho;</i> are respectively the relative velocity object-ariflow, the characteristic dimension of the object and the air density. It can be interpreted as the ratio between inertial and viscous forces and allows to predict the transition from laminar to turbulent flows.\n",
    "For the inviscid flows, the Re number loses it's meaning as there is no viscosity <i>&mu;</i>. More about the Reynold's number can be found <a href=\"https://en.wikipedia.org/wiki/Reynolds_number\">here</a>.</p>\n",
    "<p>Let's now calculate the lift coefficient <i>CL</i> and the drag coefficient <i>CD</i> (when possible) in the different scenarios:</p>"
   ]
  },
  {
   "cell_type": "code",
   "execution_count": null,
   "metadata": {
    "ExecuteTime": {
     "end_time": "2020-07-04T11:08:56.634193Z",
     "start_time": "2020-07-04T11:08:56.561274Z"
    }
   },
   "outputs": [],
   "source": []
  },
  {
   "cell_type": "markdown",
   "metadata": {},
   "source": [
    "<h2>Plot coefficients</h2>\n",
    "<p>The aerodynamic coefficients are note calculated at different conditions in such a way to consider also viscous phonomena. For this example a <i>Re=600000</i> is used.</p>"
   ]
  },
  {
   "cell_type": "code",
   "execution_count": null,
   "metadata": {},
   "outputs": [],
   "source": []
  },
  {
   "cell_type": "markdown",
   "metadata": {},
   "source": [
    "<h2>Sample experimental data</h2>\n",
    "<p>In order to understand the correctness of the calculated data, it can be helpful to have a comparison against experimental records. Fortunatelly NASA provides what we need thanks to the <a href=\"https://ntrs.nasa.gov/archive/nasa/casi.ntrs.nasa.gov/19930090976.pdf\">REPORT No. 824 SUMMARY OF AIRFOIL DATA By IRA H. ABBOTT, ALBERT E. VON DOENHOFF, and LOUIS S. STIVERS, Jr.</a> which contains many examples of experimental data for a great range of naca airfoils and Reynold's numbers.</p>\n",
    "<p>Notice how such data is not in a machine readable format and therefore it requires some special treatment. In this case we need to sample the pixels representing the desired aerodynamic coefficient curve and convert it to the right scale.</p>"
   ]
  },
  {
   "cell_type": "code",
   "execution_count": null,
   "metadata": {},
   "outputs": [],
   "source": []
  },
  {
   "cell_type": "code",
   "execution_count": null,
   "metadata": {},
   "outputs": [],
   "source": []
  },
  {
   "cell_type": "markdown",
   "metadata": {},
   "source": [
    "<h2>Compare calculated and experimental data</h2>\n",
    "<p>It can be observed that at <i>Re=600000</i> the curves for inviscid and viscous flow are pretty similar for small angles of attack <i>&alpha;</i>. However at greater or lower angles the viscous effects are more relevant and cause the separation of the flow over the airfoil thus generating a great drop in the lift coefficient <i>Cl</i> (blue and red curves).</p>\n",
    "<p>Keep in mind that according to the definition of Reynold's number, the viscous effects tend to be smaller and smaller as <i>Re</i> increases thus making the blue and red curve closer to the black line.</p>"
   ]
  },
  {
   "cell_type": "code",
   "execution_count": null,
   "metadata": {},
   "outputs": [],
   "source": []
  },
  {
   "cell_type": "code",
   "execution_count": null,
   "metadata": {},
   "outputs": [],
   "source": []
  }
 ],
 "metadata": {
  "hide_input": false,
  "kernelspec": {
   "display_name": "Python 3",
   "language": "python",
   "name": "python3"
  },
  "language_info": {
   "codemirror_mode": {
    "name": "ipython",
    "version": 3
   },
   "file_extension": ".py",
   "mimetype": "text/x-python",
   "name": "python",
   "nbconvert_exporter": "python",
   "pygments_lexer": "ipython3",
   "version": "3.7.6"
  },
  "toc": {
   "base_numbering": 1,
   "nav_menu": {},
   "number_sections": true,
   "sideBar": true,
   "skip_h1_title": false,
   "title_cell": "Table of Contents",
   "title_sidebar": "Contents",
   "toc_cell": false,
   "toc_position": {},
   "toc_section_display": true,
   "toc_window_display": false
  }
 },
 "nbformat": 4,
 "nbformat_minor": 4
}
